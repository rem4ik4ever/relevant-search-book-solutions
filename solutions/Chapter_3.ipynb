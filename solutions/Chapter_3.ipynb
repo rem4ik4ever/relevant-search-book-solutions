{
 "cells": [
  {
   "cell_type": "code",
   "execution_count": 92,
   "id": "apparent-possession",
   "metadata": {},
   "outputs": [],
   "source": [
    "import requests\n",
    "import json"
   ]
  },
  {
   "cell_type": "code",
   "execution_count": 93,
   "id": "orange-sherman",
   "metadata": {},
   "outputs": [],
   "source": [
    "def pretty(parsed):\n",
    "    print(json.dumps(parsed, indent=4, sort_keys=True))"
   ]
  },
  {
   "cell_type": "code",
   "execution_count": 94,
   "id": "convinced-timing",
   "metadata": {},
   "outputs": [],
   "source": [
    "def extract():\n",
    "    f = open('tmdb.json')\n",
    "    if f:\n",
    "        return json.loads(f.read())"
   ]
  },
  {
   "cell_type": "code",
   "execution_count": 95,
   "id": "republican-technique",
   "metadata": {},
   "outputs": [
    {
     "name": "stdout",
     "output_type": "stream",
     "text": [
      "Extracting data\n",
      "Extraction complete\n"
     ]
    }
   ],
   "source": [
    "print(\"Extracting data\");\n",
    "data = extract();\n",
    "print(\"Extraction complete\");"
   ]
  },
  {
   "cell_type": "code",
   "execution_count": 142,
   "id": "dental-vanilla",
   "metadata": {},
   "outputs": [],
   "source": [
    "def addMappings(mappings={}):\n",
    "    headers = {\n",
    "        \"Content-Type\": \"application/json\"\n",
    "    }\n",
    "    resp = requests.put(\"http://localhost:9200/tmdb\",headers=headers, data=json.dumps(mappings))\n",
    "    pretty(resp.json())\n",
    "\n",
    "def seedData(movieDict={}): \n",
    "    headers = {\n",
    "        \"Content-Type\": \"application/json\"\n",
    "    }\n",
    "    bulkMovies = \"\"\n",
    "    \n",
    "    for id, movie in movieDict.items():\n",
    "        addCmd = {\"index\": {\"_index\": \"tmdb\",\n",
    "                           \"_type\": \"movie\",\n",
    "                           \"_id\": movie[\"id\"]}}\n",
    "        bulkMovies += json.dumps(addCmd) + \"\\n\" + json.dumps(movie) + \"\\n\"\n",
    "    resp = requests.post(\"http://localhost:9200/_bulk\",headers=headers, data=bulkMovies)\n",
    "    print(\"Indexing complete\")\n",
    "\n",
    "def reindex(analysisSettings={}, mappingSettings={}):\n",
    "    settings = {\n",
    "        \"settings\": {\n",
    "            \"number_of_shards\": 1,\n",
    "            \"index\": {\n",
    "                \"analysis\": analysisSettings,\n",
    "            }\n",
    "        },\n",
    "    }\n",
    "    if mappingSettings:\n",
    "        settings['mappings'] = mappingSettings\n",
    "        \n",
    "    headers = {\n",
    "        \"Content-Type\": \"application/json\"\n",
    "    }\n",
    "    \n",
    "    resp = requests.delete(\"http://localhost:9200/tmdb\")\n",
    "    print(\"Delete: \", resp)\n",
    "    print(\"settings: \", json.dumps(settings))\n",
    "    resp = requests.put(\"http://localhost:9200/tmdb\",headers=headers, data=json.dumps(settings))\n",
    "    print(\"Put settings: \", resp.status_code, resp.json())\n",
    "    \n",
    "    \n",
    "    "
   ]
  },
  {
   "cell_type": "code",
   "execution_count": 143,
   "id": "continuous-revolution",
   "metadata": {},
   "outputs": [],
   "source": [
    "mappings = {\n",
    "    \"properties\": {\n",
    "        \"title\": {\n",
    "            \"type\": \"text\",\n",
    "            \"analyzer\": \"english\"\n",
    "        },\n",
    "        \"overview\": {\n",
    "            \"type\": \"text\",\n",
    "            \"analyzer\": \"english\"\n",
    "        }\n",
    "    }\n",
    "}"
   ]
  },
  {
   "cell_type": "code",
   "execution_count": 144,
   "id": "exterior-rebound",
   "metadata": {},
   "outputs": [
    {
     "name": "stdout",
     "output_type": "stream",
     "text": [
      "Delete:  <Response [200]>\n",
      "settings:  {\"settings\": {\"number_of_shards\": 1, \"index\": {\"analysis\": {}}}, \"mappings\": {\"properties\": {\"title\": {\"type\": \"text\", \"analyzer\": \"english\"}, \"overview\": {\"type\": \"text\", \"analyzer\": \"english\"}}}}\n",
      "Put settings:  200 {'acknowledged': True, 'shards_acknowledged': True, 'index': 'tmdb'}\n",
      "Indexing complete\n"
     ]
    }
   ],
   "source": [
    "reindex(mappingSettings=mappings)\n",
    "# addMappings(mappings=mappings)\n",
    "seedData(movieDict=data)"
   ]
  },
  {
   "cell_type": "code",
   "execution_count": 138,
   "id": "parental-investigation",
   "metadata": {},
   "outputs": [],
   "source": [
    "def search(query):\n",
    "    headers = {\n",
    "        \"Content-Type\": \"application/json\"\n",
    "    }\n",
    "    url = \"http://localhost:9200/tmdb/movie/_search\"\n",
    "    httpResp = requests.get(url, headers=headers, data=json.dumps(query))\n",
    "    searchHits = json.loads(httpResp.text)['hits']\n",
    "    print(\"Num\\tRelevance Score\\t\\tMovie Title\")\n",
    "    for idx, hit in enumerate(searchHits[\"hits\"]):\n",
    "        print(\"%s\\t%s\\t\\t%s\" %\n",
    "        (idx + 1, hit['_score'], hit['_source'][\"title\"]))"
   ]
  },
  {
   "cell_type": "code",
   "execution_count": 139,
   "id": "handed-supervision",
   "metadata": {},
   "outputs": [],
   "source": [
    "userSearch = 'basketball with cartoon aliens'\n",
    "query = {\n",
    "    \"query\": {\n",
    "        \"multi_match\": {\n",
    "            \"query\": userSearch,\n",
    "            \"fields\": [\"title^10\", \"overview\"]\n",
    "        }\n",
    "    }\n",
    "}"
   ]
  },
  {
   "cell_type": "code",
   "execution_count": 140,
   "id": "decreased-belarus",
   "metadata": {},
   "outputs": [
    {
     "name": "stdout",
     "output_type": "stream",
     "text": [
      "Num\tRelevance Score\t\tMovie Title\n"
     ]
    }
   ],
   "source": [
    "search(query)"
   ]
  },
  {
   "cell_type": "code",
   "execution_count": 141,
   "id": "impressive-croatia",
   "metadata": {},
   "outputs": [
    {
     "name": "stdout",
     "output_type": "stream",
     "text": [
      "{\n",
      "    \"_shards\": {\n",
      "        \"failed\": 0,\n",
      "        \"successful\": 1,\n",
      "        \"total\": 1\n",
      "    },\n",
      "    \"explanations\": [\n",
      "        {\n",
      "            \"explanation\": \"+(overview:alien | (title:alien)^0.1) #MatchNoDocsQuery(\\\"\\\")\",\n",
      "            \"index\": \"tmdb\",\n",
      "            \"valid\": true\n",
      "        }\n",
      "    ],\n",
      "    \"valid\": true\n",
      "}\n"
     ]
    }
   ],
   "source": [
    "headers = {\n",
    "    \"Content-Type\": \"application/json\"\n",
    "}\n",
    "userSearch = 'Alien'\n",
    "query = {\n",
    "    \"query\": {\n",
    "        \"multi_match\": {\n",
    "            \"query\": userSearch,\n",
    "            \"type\": \"best_fields\",\n",
    "            \"fields\": [\"title^0.1\", \"overview\"]\n",
    "        }\n",
    "    }\n",
    "}\n",
    "httpResp = requests.get('http://localhost:9200/tmdb/movie/_validate/query?explain', headers=headers, data=json.dumps(query))\n",
    "pretty(httpResp.json())"
   ]
  },
  {
   "cell_type": "code",
   "execution_count": null,
   "id": "related-planner",
   "metadata": {},
   "outputs": [],
   "source": []
  },
  {
   "cell_type": "code",
   "execution_count": null,
   "id": "beginning-dancing",
   "metadata": {},
   "outputs": [],
   "source": []
  }
 ],
 "metadata": {
  "kernelspec": {
   "display_name": "Python 3",
   "language": "python",
   "name": "python3"
  },
  "language_info": {
   "codemirror_mode": {
    "name": "ipython",
    "version": 3
   },
   "file_extension": ".py",
   "mimetype": "text/x-python",
   "name": "python",
   "nbconvert_exporter": "python",
   "pygments_lexer": "ipython3",
   "version": "3.8.6"
  }
 },
 "nbformat": 4,
 "nbformat_minor": 5
}
