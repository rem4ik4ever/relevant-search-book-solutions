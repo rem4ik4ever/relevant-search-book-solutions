{
 "cells": [
  {
   "cell_type": "code",
   "execution_count": 22,
   "id": "norman-vitamin",
   "metadata": {},
   "outputs": [],
   "source": [
    "import requests\n",
    "import json"
   ]
  },
  {
   "cell_type": "code",
   "execution_count": 23,
   "id": "automotive-burden",
   "metadata": {},
   "outputs": [],
   "source": [
    "def extract():\n",
    "    f = open('tmdb.json')\n",
    "    if f:\n",
    "        return json.loads(f.read())"
   ]
  },
  {
   "cell_type": "code",
   "execution_count": 24,
   "id": "applicable-portsmouth",
   "metadata": {},
   "outputs": [
    {
     "name": "stdout",
     "output_type": "stream",
     "text": [
      "Extracting data\n",
      "Extraction complete\n"
     ]
    }
   ],
   "source": [
    "print(\"Extracting data\");\n",
    "data = extract();\n",
    "print(\"Extraction complete\");"
   ]
  },
  {
   "cell_type": "code",
   "execution_count": 46,
   "id": "loaded-consolidation",
   "metadata": {},
   "outputs": [],
   "source": [
    "def reindex(analysisSettings={}, mappingSettings={}, movieDict={}):\n",
    "    settings = {\n",
    "        \"settings\": {\n",
    "            \"number_of_shards\": 1,\n",
    "            \"index\": {\n",
    "                \"analysis\": analysisSettings,\n",
    "            }\n",
    "        }\n",
    "    }\n",
    "    headers = {\n",
    "        \"Content-Type\": \"application/json\"\n",
    "    }\n",
    "    if mappingSettings:\n",
    "        settings[\"mappings\"] = mappingSettings\n",
    "    \n",
    "    resp = requests.delete(\"http://localhost:9200/tmdb\")\n",
    "    print(\"Delete: \", resp)\n",
    "    print(\"settings: \", json.dumps(settings))\n",
    "    resp = requests.put(\"http://localhost:9200/tmdb\",headers=headers, data=json.dumps(settings))\n",
    "    print(\"Put settings: \", resp.status_code, resp.json())\n",
    "    \n",
    "    bulkMovies = \"\"\n",
    "    \n",
    "    for id, movie in movieDict.items():\n",
    "        addCmd = {\"index\": {\"_index\": \"tmdb\",\n",
    "                           \"_type\": \"movie\",\n",
    "                           \"_id\": movie[\"id\"]}}\n",
    "        bulkMovies += json.dumps(addCmd) + \"\\n\" + json.dumps(movie) + \"\\n\"\n",
    "    resp = requests.post(\"http://localhost:9200/_bulk\",headers=headers, data=bulkMovies)\n",
    "    print(resp.status_code, res.json())"
   ]
  },
  {
   "cell_type": "code",
   "execution_count": 47,
   "id": "organizational-writer",
   "metadata": {},
   "outputs": [
    {
     "name": "stdout",
     "output_type": "stream",
     "text": [
      "Delete:  <Response [200]>\n",
      "settings:  {\"settings\": {\"number_of_shards\": 1, \"index\": {\"analysis\": {}}}}\n",
      "Put settings:  200 {'acknowledged': True, 'shards_acknowledged': True, 'index': 'tmdb'}\n",
      "<Response [200]>\n"
     ]
    }
   ],
   "source": [
    "reindex(movieDict=data)"
   ]
  },
  {
   "cell_type": "code",
   "execution_count": 57,
   "id": "liquid-surprise",
   "metadata": {},
   "outputs": [],
   "source": [
    "def search(query):\n",
    "    headers = {\n",
    "        \"Content-Type\": \"application/json\"\n",
    "    }\n",
    "    url = \"http://localhost:9200/tmdb/movie/_search\"\n",
    "    httpResp = requests.get(url, headers=headers, data=json.dumps(query))\n",
    "    searchHits = json.loads(httpResp.text)['hits']\n",
    "    print(\"Num\\tRelevance Score\\t\\tMovie Title\")\n",
    "    for idx, hit in enumerate(searchHits[\"hits\"]):\n",
    "        print(\"%s\\t%s\\t\\t%s\" %\n",
    "        (idx + 1, hit['_score'], hit['_source'][\"title\"]))"
   ]
  },
  {
   "cell_type": "code",
   "execution_count": 58,
   "id": "driven-employer",
   "metadata": {},
   "outputs": [],
   "source": [
    "userSearch = 'basketball with cartoon aliens'\n",
    "query = {\n",
    "    \"query\": {\n",
    "        \"multi_match\": {\n",
    "            \"query\": userSearch,\n",
    "            \"fields\": [\"title^10\", \"overview\"]\n",
    "        }\n",
    "    }\n",
    "}"
   ]
  },
  {
   "cell_type": "code",
   "execution_count": 59,
   "id": "academic-gardening",
   "metadata": {},
   "outputs": [
    {
     "name": "stdout",
     "output_type": "stream",
     "text": [
      "Num\tRelevance Score\t\tMovie Title\n",
      "1\t85.56929\t\tAliens\n",
      "2\t73.71077\t\tThe Basketball Diaries\n",
      "3\t71.3202\t\tCowboys & Aliens\n",
      "4\t61.13922\t\tMonsters vs Aliens\n",
      "5\t53.501823\t\tAliens vs Predator: Requiem\n",
      "6\t53.501823\t\tAliens in the Attic\n",
      "7\t45.221096\t\tDances with Wolves\n",
      "8\t45.221096\t\tFriends with Benefits\n",
      "9\t45.221096\t\tFire with Fire\n",
      "10\t45.221096\t\tFriends with Kids\n"
     ]
    }
   ],
   "source": [
    "search(query)"
   ]
  },
  {
   "cell_type": "code",
   "execution_count": null,
   "id": "incredible-character",
   "metadata": {},
   "outputs": [],
   "source": []
  }
 ],
 "metadata": {
  "kernelspec": {
   "display_name": "Python 3",
   "language": "python",
   "name": "python3"
  },
  "language_info": {
   "codemirror_mode": {
    "name": "ipython",
    "version": 3
   },
   "file_extension": ".py",
   "mimetype": "text/x-python",
   "name": "python",
   "nbconvert_exporter": "python",
   "pygments_lexer": "ipython3",
   "version": "3.8.6"
  }
 },
 "nbformat": 4,
 "nbformat_minor": 5
}
