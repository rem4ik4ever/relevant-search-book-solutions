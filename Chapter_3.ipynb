{
 "cells": [
  {
   "cell_type": "code",
   "execution_count": 23,
   "id": "norman-vitamin",
   "metadata": {},
   "outputs": [],
   "source": [
    "import requests\n",
    "import json"
   ]
  },
  {
   "cell_type": "code",
   "execution_count": 24,
   "id": "continued-expression",
   "metadata": {},
   "outputs": [],
   "source": [
    "def pretty(parsed):\n",
    "    print(json.dumps(parsed, indent=4, sort_keys=True))"
   ]
  },
  {
   "cell_type": "code",
   "execution_count": 25,
   "id": "automotive-burden",
   "metadata": {},
   "outputs": [],
   "source": [
    "def extract():\n",
    "    f = open('tmdb.json')\n",
    "    if f:\n",
    "        return json.loads(f.read())"
   ]
  },
  {
   "cell_type": "code",
   "execution_count": 26,
   "id": "applicable-portsmouth",
   "metadata": {},
   "outputs": [
    {
     "name": "stdout",
     "output_type": "stream",
     "text": [
      "Extracting data\n",
      "Extraction complete\n"
     ]
    }
   ],
   "source": [
    "print(\"Extracting data\");\n",
    "data = extract();\n",
    "print(\"Extraction complete\");"
   ]
  },
  {
   "cell_type": "code",
   "execution_count": 27,
   "id": "loaded-consolidation",
   "metadata": {},
   "outputs": [],
   "source": [
    "def reindex(analysisSettings={}, mappingSettings={}, movieDict={}):\n",
    "    settings = {\n",
    "        \"settings\": {\n",
    "            \"number_of_shards\": 1,\n",
    "            \"index\": {\n",
    "                \"analysis\": analysisSettings,\n",
    "            }\n",
    "        }\n",
    "    }\n",
    "    headers = {\n",
    "        \"Content-Type\": \"application/json\"\n",
    "    }\n",
    "    if mappingSettings:\n",
    "        settings[\"mappings\"] = mappingSettings\n",
    "    \n",
    "    resp = requests.delete(\"http://localhost:9200/tmdb\")\n",
    "    print(\"Delete: \", resp)\n",
    "    print(\"settings: \", json.dumps(settings))\n",
    "    resp = requests.put(\"http://localhost:9200/tmdb\",headers=headers, data=json.dumps(settings))\n",
    "    print(\"Put settings: \", resp.status_code, resp.json())\n",
    "    \n",
    "    bulkMovies = \"\"\n",
    "    \n",
    "    for id, movie in movieDict.items():\n",
    "        addCmd = {\"index\": {\"_index\": \"tmdb\",\n",
    "                           \"_type\": \"movie\",\n",
    "                           \"_id\": movie[\"id\"]}}\n",
    "        bulkMovies += json.dumps(addCmd) + \"\\n\" + json.dumps(movie) + \"\\n\"\n",
    "    resp = requests.post(\"http://localhost:9200/_bulk\",headers=headers, data=bulkMovies)\n",
    "    print(\"Indexing complete\")"
   ]
  },
  {
   "cell_type": "code",
   "execution_count": 28,
   "id": "organizational-writer",
   "metadata": {},
   "outputs": [
    {
     "name": "stdout",
     "output_type": "stream",
     "text": [
      "Delete:  <Response [200]>\n",
      "settings:  {\"settings\": {\"number_of_shards\": 1, \"index\": {\"analysis\": {}}}}\n",
      "Put settings:  200 {'acknowledged': True, 'shards_acknowledged': True, 'index': 'tmdb'}\n",
      "Indexing complete\n"
     ]
    }
   ],
   "source": [
    "reindex(movieDict=data)"
   ]
  },
  {
   "cell_type": "code",
   "execution_count": 29,
   "id": "liquid-surprise",
   "metadata": {},
   "outputs": [],
   "source": [
    "def search(query):\n",
    "    headers = {\n",
    "        \"Content-Type\": \"application/json\"\n",
    "    }\n",
    "    url = \"http://localhost:9200/tmdb/movie/_search\"\n",
    "    httpResp = requests.get(url, headers=headers, data=json.dumps(query))\n",
    "    searchHits = json.loads(httpResp.text)['hits']\n",
    "    print(\"Num\\tRelevance Score\\t\\tMovie Title\")\n",
    "    for idx, hit in enumerate(searchHits[\"hits\"]):\n",
    "        print(\"%s\\t%s\\t\\t%s\" %\n",
    "        (idx + 1, hit['_score'], hit['_source'][\"title\"]))"
   ]
  },
  {
   "cell_type": "code",
   "execution_count": 30,
   "id": "driven-employer",
   "metadata": {},
   "outputs": [],
   "source": [
    "userSearch = 'basketball with cartoon aliens'\n",
    "query = {\n",
    "    \"query\": {\n",
    "        \"multi_match\": {\n",
    "            \"query\": userSearch,\n",
    "            \"fields\": [\"title^10\", \"overview\"]\n",
    "        }\n",
    "    }\n",
    "}"
   ]
  },
  {
   "cell_type": "code",
   "execution_count": 31,
   "id": "academic-gardening",
   "metadata": {},
   "outputs": [
    {
     "name": "stdout",
     "output_type": "stream",
     "text": [
      "Num\tRelevance Score\t\tMovie Title\n",
      "1\t76.18483\t\tAliens\n",
      "2\t63.674076\t\tCowboys & Aliens\n",
      "3\t47.931763\t\tAliens vs Predator: Requiem\n",
      "4\t46.03087\t\tDances with Wolves\n",
      "5\t46.03087\t\tFriends with Benefits\n",
      "6\t40.340702\t\tInterview with the Vampire\n",
      "7\t40.340702\t\tFrom Russia With Love\n",
      "8\t40.340702\t\tGone with the Wind\n",
      "9\t40.340702\t\tJust Go With It\n",
      "10\t32.34417\t\tThe Girl with the Dragon Tattoo\n"
     ]
    }
   ],
   "source": [
    "search(query)"
   ]
  },
  {
   "cell_type": "code",
   "execution_count": 32,
   "id": "incredible-character",
   "metadata": {},
   "outputs": [],
   "source": [
    "def search_and_explain(userSearch):\n",
    "    query = {\n",
    "        \"query\": {\n",
    "            \"multi_match\": {\n",
    "                \"query\": userSearch,\n",
    "                \"fields\": [\"title^10\", \"overview\"]\n",
    "            }\n",
    "        }\n",
    "    }\n",
    "    headers = {\n",
    "        \"Content-Type\": \"application/json\"\n",
    "    }\n",
    "    url = \"http://localhost:9200/tmdb/movie/_validate/query?explain\"\n",
    "    httpResp = requests.get(url, headers=headers, data=json.dumps(query))\n",
    "    searchHits = json.loads(httpResp.text)\n",
    "    pretty(searchHits)"
   ]
  },
  {
   "cell_type": "code",
   "execution_count": 33,
   "id": "limited-smoke",
   "metadata": {},
   "outputs": [
    {
     "name": "stdout",
     "output_type": "stream",
     "text": [
      "{\n",
      "    \"_shards\": {\n",
      "        \"failed\": 0,\n",
      "        \"successful\": 1,\n",
      "        \"total\": 1\n",
      "    },\n",
      "    \"explanations\": [\n",
      "        {\n",
      "            \"explanation\": \"+((overview:basketball overview:with overview:cartoon overview:aliens) | (title:basketball title:with title:cartoon title:aliens)^10.0) #*:*\",\n",
      "            \"index\": \"tmdb\",\n",
      "            \"valid\": true\n",
      "        }\n",
      "    ],\n",
      "    \"valid\": true\n",
      "}\n"
     ]
    }
   ],
   "source": [
    "userSearch = 'basketball with cartoon aliens'\n",
    "search_and_explain(userSearch)"
   ]
  },
  {
   "cell_type": "code",
   "execution_count": 40,
   "id": "intended-stake",
   "metadata": {
    "scrolled": true
   },
   "outputs": [
    {
     "name": "stdout",
     "output_type": "stream",
     "text": [
      "{\n",
      "    \"tokens\": [\n",
      "        {\n",
      "            \"end_offset\": 4,\n",
      "            \"position\": 0,\n",
      "            \"start_offset\": 0,\n",
      "            \"token\": \"fire\",\n",
      "            \"type\": \"<ALPHANUM>\"\n",
      "        },\n",
      "        {\n",
      "            \"end_offset\": 9,\n",
      "            \"position\": 1,\n",
      "            \"start_offset\": 5,\n",
      "            \"token\": \"with\",\n",
      "            \"type\": \"<ALPHANUM>\"\n",
      "        },\n",
      "        {\n",
      "            \"end_offset\": 14,\n",
      "            \"position\": 2,\n",
      "            \"start_offset\": 10,\n",
      "            \"token\": \"fire\",\n",
      "            \"type\": \"<ALPHANUM>\"\n",
      "        }\n",
      "    ]\n",
      "}\n"
     ]
    }
   ],
   "source": [
    "headers = {\n",
    "    \"Content-Type\": \"application/json\"\n",
    "}\n",
    "data = {\n",
    "    \"analyzer\": \"standard\", \n",
    "    \"text\": \"Fire with Fire\"\n",
    "}\n",
    "resp = requests.get(\n",
    "    'http://localhost:9200/tmdb/_analyze', \n",
    "    headers=headers, \n",
    "    data=json.dumps(data))\n",
    "pretty(json.loads(resp.text))"
   ]
  },
  {
   "cell_type": "code",
   "execution_count": 45,
   "id": "derived-brake",
   "metadata": {},
   "outputs": [
    {
     "name": "stdout",
     "output_type": "stream",
     "text": [
      "Delete:  <Response [200]>\n",
      "settings:  {\"settings\": {\"number_of_shards\": 1, \"index\": {\"analysis\": {}}}, \"mappings\": {\"_doc\": {\"properties\": {\"title\": {\"type\": \"string\", \"analyzer\": \"english\"}, \"overview\": {\"type\": \"string\", \"analyzer\": \"english\"}}}}}\n",
      "Put settings:  400 {'error': {'root_cause': [{'type': 'illegal_argument_exception', 'reason': 'The mapping definition cannot be nested under a type [_doc] unless include_type_name is set to true.'}], 'type': 'illegal_argument_exception', 'reason': 'The mapping definition cannot be nested under a type [_doc] unless include_type_name is set to true.'}, 'status': 400}\n",
      "Indexing complete\n"
     ]
    }
   ],
   "source": [
    "mappingSettings = {\n",
    "    \"movie\": {\n",
    "        \"properties\":{\n",
    "            \"title\": {\n",
    "                \"type\": \"string\",\n",
    "                \"analyzer\": \"english\"\n",
    "            },\n",
    "            \"overview\": {\n",
    "                \"type\": \"string\",\n",
    "                \"analyzer\": \"english\"\n",
    "            }\n",
    "        }\n",
    "    }\n",
    "}\n",
    "movieDict=extract()\n",
    "reindex(mappingSettings=mappingSettings, movieDict=movieDict)"
   ]
  },
  {
   "cell_type": "code",
   "execution_count": 41,
   "id": "excited-holder",
   "metadata": {},
   "outputs": [
    {
     "name": "stdout",
     "output_type": "stream",
     "text": [
      "Num\tRelevance Score\t\tMovie Title\n",
      "1\t85.56929\t\tAliens\n",
      "2\t73.71077\t\tThe Basketball Diaries\n",
      "3\t71.3202\t\tCowboys & Aliens\n",
      "4\t61.13922\t\tMonsters vs Aliens\n",
      "5\t53.501823\t\tAliens vs Predator: Requiem\n",
      "6\t53.501823\t\tAliens in the Attic\n",
      "7\t45.221096\t\tDances with Wolves\n",
      "8\t45.221096\t\tFriends with Benefits\n",
      "9\t45.221096\t\tFire with Fire\n",
      "10\t45.221096\t\tFriends with Kids\n"
     ]
    }
   ],
   "source": [
    "userSearch = 'basketball with cartoon aliens'\n",
    "query = {\n",
    "    \"query\": {\n",
    "        \"multi_match\": {\n",
    "            \"query\": userSearch,\n",
    "            \"fields\": [\"title^10\", \"overview\"]\n",
    "        }\n",
    "    }\n",
    "}\n",
    "search(query)"
   ]
  },
  {
   "cell_type": "code",
   "execution_count": null,
   "id": "apart-defeat",
   "metadata": {},
   "outputs": [],
   "source": []
  }
 ],
 "metadata": {
  "kernelspec": {
   "display_name": "Python 3",
   "language": "python",
   "name": "python3"
  },
  "language_info": {
   "codemirror_mode": {
    "name": "ipython",
    "version": 3
   },
   "file_extension": ".py",
   "mimetype": "text/x-python",
   "name": "python",
   "nbconvert_exporter": "python",
   "pygments_lexer": "ipython3",
   "version": "3.8.5"
  }
 },
 "nbformat": 4,
 "nbformat_minor": 5
}
