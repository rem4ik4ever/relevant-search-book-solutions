{
 "cells": [
  {
   "cell_type": "code",
   "execution_count": 23,
   "id": "geographic-audience",
   "metadata": {},
   "outputs": [],
   "source": [
    "import requests\n",
    "import json"
   ]
  },
  {
   "cell_type": "code",
   "execution_count": 24,
   "id": "romance-farming",
   "metadata": {},
   "outputs": [],
   "source": [
    "def pretty(parsed):\n",
    "    print(json.dumps(parsed, indent=4, sort_keys=True))"
   ]
  },
  {
   "cell_type": "code",
   "execution_count": 25,
   "id": "precise-anchor",
   "metadata": {},
   "outputs": [],
   "source": [
    "def extract():\n",
    "    f = open('tmdb.json')\n",
    "    if f:\n",
    "        return json.loads(f.read())"
   ]
  },
  {
   "cell_type": "code",
   "execution_count": 26,
   "id": "crazy-procedure",
   "metadata": {},
   "outputs": [
    {
     "name": "stdout",
     "output_type": "stream",
     "text": [
      "Extracting data\n",
      "Extraction complete\n"
     ]
    }
   ],
   "source": [
    "print(\"Extracting data\");\n",
    "data = extract();\n",
    "print(\"Extraction complete\");"
   ]
  },
  {
   "cell_type": "code",
   "execution_count": 27,
   "id": "assigned-runner",
   "metadata": {},
   "outputs": [],
   "source": [
    "def reindex(analysisSettings={}, mappingSettings={}, movieDict={}):\n",
    "    settings = {\n",
    "        \"settings\": {\n",
    "            \"number_of_shards\": 1,\n",
    "            \"index\": {\n",
    "                \"analysis\": analysisSettings,\n",
    "            }\n",
    "        }\n",
    "    }\n",
    "    headers = {\n",
    "        \"Content-Type\": \"application/json\"\n",
    "    }\n",
    "    if mappingSettings:\n",
    "        settings[\"mappings\"] = mappingSettings\n",
    "    \n",
    "    resp = requests.delete(\"http://localhost:9200/tmdb\")\n",
    "    print(\"Delete: \", resp)\n",
    "    print(\"settings: \", json.dumps(settings))\n",
    "    resp = requests.put(\"http://localhost:9200/tmdb\",headers=headers, data=json.dumps(settings))\n",
    "    print(\"Put settings: \", resp.status_code, resp.json())\n",
    "    \n",
    "    bulkMovies = \"\"\n",
    "    \n",
    "    for id, movie in movieDict.items():\n",
    "        addCmd = {\"index\": {\"_index\": \"tmdb\",\n",
    "                           \"_type\": \"movie\",\n",
    "                           \"_id\": movie[\"id\"]}}\n",
    "        bulkMovies += json.dumps(addCmd) + \"\\n\" + json.dumps(movie) + \"\\n\"\n",
    "    resp = requests.post(\"http://localhost:9200/_bulk\",headers=headers, data=bulkMovies)\n",
    "    print(\"Indexing complete\")"
   ]
  },
  {
   "cell_type": "code",
   "execution_count": 28,
   "id": "rural-charles",
   "metadata": {},
   "outputs": [
    {
     "name": "stdout",
     "output_type": "stream",
     "text": [
      "Delete:  <Response [200]>\n",
      "settings:  {\"settings\": {\"number_of_shards\": 1, \"index\": {\"analysis\": {}}}}\n",
      "Put settings:  200 {'acknowledged': True, 'shards_acknowledged': True, 'index': 'tmdb'}\n",
      "Indexing complete\n"
     ]
    }
   ],
   "source": [
    "reindex(movieDict=data)"
   ]
  },
  {
   "cell_type": "code",
   "execution_count": 29,
   "id": "great-processing",
   "metadata": {},
   "outputs": [],
   "source": [
    "def search(query):\n",
    "    headers = {\n",
    "        \"Content-Type\": \"application/json\"\n",
    "    }\n",
    "    url = \"http://localhost:9200/tmdb/movie/_search\"\n",
    "    httpResp = requests.get(url, headers=headers, data=json.dumps(query))\n",
    "    searchHits = json.loads(httpResp.text)['hits']\n",
    "    print(\"Num\\tRelevance Score\\t\\tMovie Title\")\n",
    "    for idx, hit in enumerate(searchHits[\"hits\"]):\n",
    "        print(\"%s\\t%s\\t\\t%s\" %\n",
    "        (idx + 1, hit['_score'], hit['_source'][\"title\"]))"
   ]
  },
  {
   "cell_type": "code",
   "execution_count": 30,
   "id": "intellectual-coverage",
   "metadata": {},
   "outputs": [],
   "source": [
    "userSearch = 'basketball with cartoon aliens'\n",
    "query = {\n",
    "    \"query\": {\n",
    "        \"multi_match\": {\n",
    "            \"query\": userSearch,\n",
    "            \"fields\": [\"title^10\", \"overview\"]\n",
    "        }\n",
    "    }\n",
    "}"
   ]
  },
  {
   "cell_type": "code",
   "execution_count": 31,
   "id": "still-fabric",
   "metadata": {},
   "outputs": [
    {
     "name": "stdout",
     "output_type": "stream",
     "text": [
      "Num\tRelevance Score\t\tMovie Title\n",
      "1\t76.18483\t\tAliens\n",
      "2\t63.674076\t\tCowboys & Aliens\n",
      "3\t47.931763\t\tAliens vs Predator: Requiem\n",
      "4\t46.03087\t\tDances with Wolves\n",
      "5\t46.03087\t\tFriends with Benefits\n",
      "6\t40.340702\t\tInterview with the Vampire\n",
      "7\t40.340702\t\tFrom Russia With Love\n",
      "8\t40.340702\t\tGone with the Wind\n",
      "9\t40.340702\t\tJust Go With It\n",
      "10\t32.34417\t\tThe Girl with the Dragon Tattoo\n"
     ]
    }
   ],
   "source": [
    "search(query)"
   ]
  },
  {
   "cell_type": "code",
   "execution_count": null,
   "id": "fifth-victor",
   "metadata": {},
   "outputs": [],
   "source": []
  }
 ],
 "metadata": {
  "kernelspec": {
   "display_name": "Python 3",
   "language": "python",
   "name": "python3"
  },
  "language_info": {
   "codemirror_mode": {
    "name": "ipython",
    "version": 3
   },
   "file_extension": ".py",
   "mimetype": "text/x-python",
   "name": "python",
   "nbconvert_exporter": "python",
   "pygments_lexer": "ipython3",
   "version": "3.8.6"
  }
 },
 "nbformat": 4,
 "nbformat_minor": 5
}
